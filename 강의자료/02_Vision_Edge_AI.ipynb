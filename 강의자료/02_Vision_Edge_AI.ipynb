{
 "cells": [
  {
   "cell_type": "markdown",
   "metadata": {},
   "source": [
    "# 02. Computer Vision Edge-AI 강의\n",
    "\n",
    "## 02-2. Edge-AI란?\n",
    "Edge-AI는 데이터 처리를 클라우드 대신 Edge Device(로컬 디바이스)에서 수행하는 인공지능 기술입니다. \n",
    "\n",
    "### 1. Edge-AI의 장점\n",
    "주요 장점은 다음과 같습니다.\n",
    "- **지연 시간 감소**: 데이터를 디바이스 내에서 처리하여 응답 시간을 단축.\n",
    "- **네트워크 비용 절감**: 데이터 전송량을 줄여 비용 절감.\n",
    "- **보안 강화**: 민감한 데이터를 클라우드로 전송하지 않아 보안 유지.\n",
    "\n",
    "### 2. Edge-AI와 Computer Vision\n",
    "Computer Vision에서 Edge-AI를 활용하면 실시간으로 이미지 또는 영상 데이터를 처리할 수 있습니다. 주요 사례는 다음과 같습니다:\n",
    "- 자율주행 차량의 실시간 물체 인식\n",
    "- CCTV를 활용한 실시간 이상 행동 감지\n",
    "- 휴대용 의료기기의 실시간 질병 진단"
   ]
  },
  {
   "cell_type": "markdown",
   "metadata": {},
   "source": [
    "## 02-3. Edge Device에서 Computer Vision 수행하기\n",
    "\n",
    "### 2.1 Edge Device의 종류\n",
    "- **NVIDIA Jetson**: 고성능 GPU를 내장한 소형 디바이스\n",
    "- **Google Coral**: TPU를 내장하여 ML 작업 최적화\n",
    "- **Raspberry Pi**: 소형 컴퓨터로 다양한 Computer Vision 애플리케이션 가능\n",
    "\n",
    "### 2.2 Computer Vision 프레임워크\n",
    "- **NVIDIA DeepStream**: NVIDIA가 제공하는 AI기반 비디오 분석 프레임워크\n",
    "- **OpenCV**: 이미지 처리 및 분석 라이브러리\n",
    "- **TensorFlow Lite**: 경량화된 딥러닝 모델 실행\n",
    "- **PyTorch Mobile**: PyTorch 모델을 모바일 또는 임베디드 환경에서 실행"
   ]
  },
  {
   "cell_type": "markdown",
   "metadata": {},
   "source": [
    "## 02.4 Jetson Orin Nano 소개\n",
    "\n",
    "### 1. Jetson Orin Nano란?\n",
    "Jetson Orin Nano는 NVIDIA의 최신 엣지 AI 플랫폼으로, 다음과 같은 특징을 갖고 있습니다:\n",
    "- **고성능**: 최대 40 TOPS의 AI 성능 제공\n",
    "- **에너지 효율성**: 저전력 소모로 배터리 기반 장치에 적합\n",
    "- **확장성**: 다양한 Computer Vision 및 Deep Learning 애플리케이션 지원\n",
    "\n",
    "### 2. DeepStream 설치 및 설정\n",
    "DeepStream은 NVIDIA에서 제공하는 비디오 분석 프레임워크로, Jetson Orin Nano에 설치하여 다음 작업을 수행할 수 있습니다:\n",
    "- 실시간 객체 탐지 및 추적\n",
    "- 행동 인식 및 이벤트 분석"
   ]
  },
  {
   "cell_type": "markdown",
   "metadata": {},
   "source": [
    "# 실습\n",
    "\n",
    "## Jetson DeepStream 설치 \n",
    "\n",
    "### SDKManager 설치\n",
    "\n",
    "## Jetson Orin Nano\n",
    "\n",
    "### 프로젝트 개요\n",
    "**목표**: NVIDIA Jetson Orin Nano에서 DeepStream을 활용하여 실시간 물체 인식을 수행.\n",
    "\n",
    "### DeepStream 예제 실행\n",
    "1. **DeepStream 구성 파일 준비**:\n",
    "   Jetson Orin Nano에서 제공되는 기본 설정 파일을 사용하여 실습을 시작.\n",
    "\n",
    "2. **DeepStream 애플리케이션 실행**:\n",
    "   ```bash\n",
    "   deepstream-app -c /opt/nvidia/deepstream/deepstream-6.2/samples/configs/deepstream-app/source1_primary_detector.txt\n",
    "   ```\n",
    "\n",
    "3. **실시간 결과 확인**:\n",
    "   - 웹캠 또는 저장된 동영상 파일을 입력으로 사용.\n",
    "   - 객체 탐지 결과를 화면에 출력."
   ]
  },
  {
   "cell_type": "code",
   "execution_count": null,
   "metadata": {},
   "outputs": [],
   "source": [
    "# Python을 활용한 DeepStream 파이프라인 실행\n",
    "import pyds\n",
    "\n",
    "def osd_sink_pad_buffer_probe(pad, info, u_data):\n",
    "    frame_number = 0\n",
    "    gst_buffer = info.get_buffer()\n",
    "    if not gst_buffer:\n",
    "        print(\"Unable to get GstBuffer\")\n",
    "        return\n",
    "\n",
    "    batch_meta = pyds.gst_buffer_get_nvds_batch_meta(hash(gst_buffer))\n",
    "    l_frame = batch_meta.frame_meta_list\n",
    "    while l_frame is not None:\n",
    "        try:\n",
    "            frame_meta = pyds.NvDsFrameMeta.cast(l_frame.data)\n",
    "        except StopIteration:\n",
    "            break\n",
    "\n",
    "        frame_number += 1\n",
    "        l_frame = l_frame.next\n",
    "\n",
    "    print(f\"Frame Number: {frame_number}\")\n",
    "    return Gst.PadProbeReturn.OK"
   ]
  }
 ],
 "metadata": {
  "kernelspec": {
   "display_name": "Python 3",
   "language": "python",
   "name": "python3"
  },
  "language_info": {
   "codemirror_mode": {
    "name": "ipython",
    "version": 3
   },
   "file_extension": ".py",
   "mimetype": "text/x-python",
   "name": "python",
   "nbconvert_exporter": "python",
   "pygments_lexer": "ipython3",
   "version": "3.10.12"
  }
 },
 "nbformat": 4,
 "nbformat_minor": 2
}
