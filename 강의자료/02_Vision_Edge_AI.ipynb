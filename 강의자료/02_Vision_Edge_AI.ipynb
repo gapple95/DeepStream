{
 "cells": [
  {
   "cell_type": "markdown",
   "metadata": {},
   "source": [
    "# 01. Jetson 설정\n"
   ]
  },
  {
   "cell_type": "markdown",
   "metadata": {},
   "source": [
    "CUDA : 12.6\n",
    "cuDNN : \n",
    "DeepStream: 7.1\n",
    "jetpack : 6.1"
   ]
  },
  {
   "cell_type": "code",
   "execution_count": null,
   "metadata": {
    "vscode": {
     "languageId": "plaintext"
    }
   },
   "outputs": [],
   "source": [
    "# cudnn 버전 확인\n",
    "dpkg -l | grep libcudnn\n",
    "\n",
    "# dlib 설치를 위한 라이브러리\n",
    "pip3 install meson\n",
    "pip3 install ninja\n",
    "\n",
    "# dlib 설치\n",
    "$ git clone https://github.com/GNOME/glib.git\n",
    "$ cd glib\n",
    "$ git checkout <glib-version-branch>\n",
    "# e.g. 2.76.6\n",
    "$ meson build --prefix=/usr\n",
    "$ ninja -C build/\n",
    "$ cd build/\n",
    "$ ninja install\n",
    "\n",
    "# dlib 설치 확인\n",
    "pkg-config --modversion glib-2.0\n",
    "\n",
    "# Dependencies\n",
    "$ sudo apt install \\\n",
    "libssl3 \\\n",
    "libssl-dev \\\n",
    "libgstreamer1.0-0 \\\n",
    "gstreamer1.0-tools \\\n",
    "gstreamer1.0-plugins-good \\\n",
    "gstreamer1.0-plugins-bad \\\n",
    "gstreamer1.0-plugins-ugly \\\n",
    "gstreamer1.0-libav \\\n",
    "libgstreamer-plugins-base1.0-dev \\\n",
    "libgstrtspserver-1.0-0 \\\n",
    "libjansson4 \\\n",
    "libyaml-cpp-dev\n",
    "\n",
    "# kafka\n",
    "$ git clone https://github.com/confluentinc/librdkafka.git\n",
    "\n",
    "# librdkafka\n",
    "$ cd librdkafka\n",
    "$ git checkout tags/v2.2.0\n",
    "$ ./configure --enable-ssl\n",
    "$ make\n",
    "$ sudo make install\n",
    "\n",
    "$ sudo mkdir -p /opt/nvidia/deepstream/deepstream/lib\n",
    "$ sudo cp /usr/local/lib/librdkafka* /opt/nvidia/deepstream/deepstream/lib\n",
    "$ sudo ldconfig"
   ]
  },
  {
   "cell_type": "code",
   "execution_count": null,
   "metadata": {
    "vscode": {
     "languageId": "plaintext"
    }
   },
   "outputs": [],
   "source": [
    "# boost the clocks\n",
    "$ sudo nvpmodel -m 0\n",
    "$ sudo jetson_clocks\n",
    "\n",
    "# deepstream 사용\n",
    "$ cd /opt/nvidia/deepstream/deepstream-7.1/samples/configs/deepstream-app\n",
    "$ deepstream-app -c source30_1080p_dec_infer-resnet_tiled_display_int8.txt\n"
   ]
  }
 ],
 "metadata": {
  "language_info": {
   "name": "python"
  }
 },
 "nbformat": 4,
 "nbformat_minor": 2
}
