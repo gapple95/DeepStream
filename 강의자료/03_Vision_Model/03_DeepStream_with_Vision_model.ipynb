{
 "cells": [
  {
   "cell_type": "markdown",
   "metadata": {},
   "source": [
    "# 03. DeepStream with Vision model\n",
    "\n",
    "이 강의에서는 ONNX 파일을 TensorRT 엔진 파일로 변환하여 DeepStream 애플리케이션에 배포하는 과정을 안내합니다. TensorRT는 딥러닝 모델의 추론을 최적화하여 고성능, 저지연 결과를 제공합니다.\n",
    "\n",
    "## 03-2. DeepStream과 TensorRT 개요\n",
    "- **DeepStream**: NVIDIA의 스트림 기반 비디오 분석 SDK로, TensorRT 엔진 파일을 활용하여 실시간 추론을 지원합니다.\n",
    "- **TensorRT 엔진 파일**: ONNX 모델에서 변환된 최적화된 파일로, DeepStream에서 추론에 사용됩니다.\n",
    "\n",
    "### DeepStream 애플리케이션의 기본 구성:\n",
    "1. 소스 입력 (RTSP, 파일 등)\n",
    "2. 추론 수행 (TensorRT용 모델 활용)\n",
    "    * ONNX 모델을 TensorR용 engine파일로 변환해서 사용\n",
    "3. 결과 시각화 또는 저장\n",
    "\n",
    "## 03-3. TensorRT와 ONNX\n",
    "- **TensorRT**: NVIDIA에서 개발한 고성능 딥러닝 추론 최적화 및 런타임 라이브러리.\n",
    "- **ONNX (Open Neural Network Exchange)**: 다양한 프레임워크 간 상호 운용성을 지원하는 딥러닝 모델 표현 형식.\n",
    "\n",
    "### TensorRT로 변화하는 이유는?\n",
    "- DeepStream에서는 TensorRT 모델만 사용이 가능합니다.\n",
    "- GPU 활용도를 극대화합니다.\n",
    "- 모델 추론 지연 시간을 줄입니다.\n",
    "- 추론을 위한 메모리 사용을 최적화합니다."
   ]
  },
  {
   "cell_type": "markdown",
   "metadata": {
    "vscode": {
     "languageId": "plaintext"
    }
   },
   "source": [
    "---\n",
    "\n",
    "# 실습\n",
    "\n",
    "## YOLOv11 모델로 engin파일 만들기\n",
    "\n",
    "### 하드웨어 및 소프트웨어 요구 사항\n",
    "- TensorRT를 지원하는 NVIDIA GPU.\n",
    "- TensorRT SDK 설\n",
    "- Python 환경 (본 실습은 Python 3.10)\n",
    "- DeepStream 설치(테스트 용도, 선택 사항)\n",
    "\n",
    "### 라이브러리 및 의존성\n",
    "Python 환경에서 다음 명령어로 필요한 라이브러리를 설치합니다:\n",
    "```bash\n",
    "$ sudo pip3 install onnx onnxruntime tensorrt pycuda\n",
    "```\n",
    "\n",
    "### YOLOv11 onnx 모델 다운로드\n",
    "YOLO 라이브러리 설치 및 numpy 1.23 버전 설치\n",
    "\n",
    "```bash\n",
    "$ sudo pip3 install ultralytics\n",
    "$ sudo pip3 install numpy==1.23\n",
    "```\n",
    "\n",
    "#### 1. Python 스크립트를 이용한 YOLOv11.onnx 다운로드"
   ]
  },
  {
   "cell_type": "code",
   "execution_count": 1,
   "metadata": {},
   "outputs": [
    {
     "name": "stdout",
     "output_type": "stream",
     "text": [
      "Ultralytics 8.3.65 🚀 Python-3.10.12 torch-2.5.1 CPU (ARMv8 Processor rev 1 (v8l))\n",
      "YOLO11n summary (fused): 238 layers, 2,616,248 parameters, 0 gradients, 6.5 GFLOPs\n",
      "\n",
      "\u001b[34m\u001b[1mPyTorch:\u001b[0m starting from 'yolo11n.pt' with input shape (1, 3, 640, 640) BCHW and output shape(s) (1, 84, 8400) (5.4 MB)\n",
      "\n",
      "\u001b[34m\u001b[1mONNX:\u001b[0m starting export with onnx 1.17.0 opset 19...\n",
      "\u001b[34m\u001b[1mONNX:\u001b[0m slimming with onnxslim 0.1.47...\n",
      "\u001b[34m\u001b[1mONNX:\u001b[0m export success ✅ 4.3s, saved as 'yolo11n.onnx' (10.2 MB)\n",
      "\n",
      "Export complete (7.0s)\n",
      "Results saved to \u001b[1m/home/paymentinapp/Desktop/lecture/DeepStream/강의자료/03_Vision_Model\u001b[0m\n",
      "Predict:         yolo predict task=detect model=yolo11n.onnx imgsz=640  \n",
      "Validate:        yolo val task=detect model=yolo11n.onnx imgsz=640 data=/usr/src/ultralytics/ultralytics/cfg/datasets/coco.yaml  \n",
      "Visualize:       https://netron.app\n",
      "WARNING ⚠️ Unable to automatically guess model task, assuming 'task=detect'. Explicitly define task for your model, i.e. 'task=detect', 'segment', 'classify','pose' or 'obb'.\n"
     ]
    }
   ],
   "source": [
    "from ultralytics import YOLO\n",
    "\n",
    "# Load the YOLO11 model\n",
    "model = YOLO(\"yolo11n.pt\")\n",
    "\n",
    "# Export the model to ONNX format\n",
    "model.export(format=\"onnx\")  # creates 'yolo11n.onnx'\n",
    "\n",
    "# Load the exported ONNX model\n",
    "onnx_model = YOLO(\"yolo11n.onnx\")"
   ]
  },
  {
   "cell_type": "markdown",
   "metadata": {},
   "source": [
    "#### 2. CLI를 이용한 YOLOv11.onnx 다운로드\n",
    "```bash\n",
    "$ yolo export model=yolo11n.pt format=onnx\n",
    "```"
   ]
  },
  {
   "cell_type": "markdown",
   "metadata": {},
   "source": [
    "### TensorRT 빌더 스크립트 준비\n",
    "\n",
    "TensorRT는 ONNX 모델을 엔진 파일로 변환하는 도구를 제공합니다. 아래는 Python 기반의 접근 방식입니다."
   ]
  },
  {
   "cell_type": "code",
   "execution_count": 4,
   "metadata": {},
   "outputs": [
    {
     "name": "stdout",
     "output_type": "stream",
     "text": [
      "엔진 파일이 yolo11n.engine에 저장되었습니다.\n"
     ]
    }
   ],
   "source": [
    "import tensorrt as trt\n",
    "\n",
    "# TensorRT 로거\n",
    "TRT_LOGGER = trt.Logger(trt.Logger.WARNING)\n",
    "\n",
    "def build_engine(onnx_file_path, engine_file_path):\n",
    "    # 빌더, 네트워크, 설정 생성\n",
    "    with trt.Builder(TRT_LOGGER) as builder, \\\n",
    "         builder.create_network(1 << int(trt.NetworkDefinitionCreationFlag.EXPLICIT_BATCH)) as network, \\\n",
    "         trt.OnnxParser(network, TRT_LOGGER) as parser:\n",
    "        \n",
    "        # 빌더 구성\n",
    "        config = builder.create_builder_config()\n",
    "        config.set_memory_pool_limit(trt.MemoryPoolType.WORKSPACE, 1 << 30)  # 1GB 워크스페이스 메모리 설정\n",
    "\n",
    "        # ONNX 파일 파싱\n",
    "        with open(onnx_file_path, 'rb') as model:\n",
    "            if not parser.parse(model.read()):\n",
    "                print(\"ONNX 파일 파싱에 실패했습니다.\")\n",
    "                for error in range(parser.num_errors):\n",
    "                    print(parser.get_error(error))\n",
    "                return None\n",
    "\n",
    "        # 네트워크를 직렬화하여 엔진 생성\n",
    "        serialized_engine = builder.build_serialized_network(network, config)\n",
    "        if serialized_engine is None:\n",
    "            print(\"엔진 생성에 실패했습니다.\")\n",
    "            return None\n",
    "\n",
    "        # 엔진 파일 저장\n",
    "        with open(engine_file_path, \"wb\") as f:\n",
    "            f.write(serialized_engine)\n",
    "        print(f\"엔진 파일이 {engine_file_path}에 저장되었습니다.\")\n",
    "\n",
    "# 예제 사용법\n",
    "build_engine(\"yolo11n.onnx\", \"yolo11n.engine\")\n"
   ]
  },
  {
   "cell_type": "markdown",
   "metadata": {},
   "source": [
    "### 엔진 파일 테스트\n",
    "\n",
    "`.engine` 파일이 생성되면, 올바르게 동작하는지 테스트합니다."
   ]
  },
  {
   "cell_type": "code",
   "execution_count": 5,
   "metadata": {},
   "outputs": [
    {
     "name": "stdout",
     "output_type": "stream",
     "text": [
      "엔진이 성공적으로 로드되었습니다.\n"
     ]
    }
   ],
   "source": [
    "import pycuda.driver as cuda\n",
    "import pycuda.autoinit\n",
    "import tensorrt as trt\n",
    "\n",
    "# TensorRT 엔진 로드\n",
    "def load_engine(engine_file_path):\n",
    "    with open(engine_file_path, \"rb\") as f:\n",
    "        runtime = trt.Runtime(TRT_LOGGER)\n",
    "        return runtime.deserialize_cuda_engine(f.read())\n",
    "\n",
    "engine = load_engine(\"yolo11n.engine\")\n",
    "print(\"엔진이 성공적으로 로드되었습니다.\")"
   ]
  },
  {
   "cell_type": "markdown",
   "metadata": {},
   "source": [
    "### DeepStream에서 활용\n",
    "1. **엔진 파일 배치**: `.engine` 파일을 원하는 디렉터리로 이동합니다.\n",
    "2. **DeepStream 구성 업데이트**: `config_infer_primary.txt` 파일을 수정하여 새 엔진 파일을 사용하도록 설정합니다.\n",
    "\n",
    "### **구성 파일 예제**\n",
    "아래는 `config_infer_primary_yolo11n.txt`의 예제입니다:\n",
    "\n",
    "```txt\n",
    "[property]\n",
    "gpu-id=0\n",
    "model-engine-file=yolo11n.engine\n",
    "labelfile-path=labels.txt\n",
    "batch-size=1\n",
    "network-mode=0\n",
    "num-detected-classes=80\n",
    "interval=0\n",
    "gie-unique-id=1\n",
    "```\n",
    "\n",
    "아래는 config_infer_primary_yolo11n.txt를 만드는 코드입니다."
   ]
  },
  {
   "cell_type": "code",
   "execution_count": 8,
   "metadata": {},
   "outputs": [
    {
     "name": "stdout",
     "output_type": "stream",
     "text": [
      "config_infer_primary_yolo11n.txt 파일이 생성되었습니다.\n"
     ]
    }
   ],
   "source": [
    "# config_infer_primary_yolo11n.txt 파일 생성\n",
    "config_content = \"\"\"[property]\n",
    "gpu-id=0\n",
    "model-engine-file=yolo11n.engine\n",
    "labelfile-path=labels.txt\n",
    "batch-size=1\n",
    "network-mode=0\n",
    "num-detected-classes=80\n",
    "interval=0\n",
    "gie-unique-id=1\n",
    "\"\"\"\n",
    "\n",
    "# 파일 쓰기\n",
    "with open(\"config_infer_primary_yolo11n.txt\", \"w\") as f:\n",
    "    f.write(config_content)\n",
    "\n",
    "print(\"config_infer_primary_yolo11n.txt 파일이 생성되었습니다.\")\n"
   ]
  },
  {
   "cell_type": "markdown",
   "metadata": {},
   "source": [
    "### DeepStream 애플리케이션 코드\n",
    "이제 Python을 사용하여 DeepStream 애플리케이션을 실행하는 코드를 작성합니다. 이 코드는 TensorRT 엔진 파일을 로드하고, 비디오 스트림에서 추론을 수행합니다."
   ]
  },
  {
   "cell_type": "code",
   "execution_count": 18,
   "metadata": {},
   "outputs": [
    {
     "data": {
      "text/plain": [
       "[]"
      ]
     },
     "execution_count": 18,
     "metadata": {},
     "output_type": "execute_result"
    }
   ],
   "source": [
    "# 필요한 라이브러리 임포트\n",
    "import gi\n",
    "import sys\n",
    "\n",
    "# GStreamer와 DeepStream 플러그인을 임포트합니다.\n",
    "gi.require_version('Gst', '1.0')\n",
    "from gi.repository import Gst\n",
    "\n",
    "# GStreamer 초기화\n",
    "Gst.init(None)"
   ]
  },
  {
   "cell_type": "code",
   "execution_count": 23,
   "metadata": {},
   "outputs": [
    {
     "ename": "Error",
     "evalue": "gst_parse_error: could not link nvvconv8 to mux, mux can't handle caps video/x-raw(memory:NVMM), format=(string)NV12 (3)",
     "output_type": "error",
     "traceback": [
      "\u001b[0;31m---------------------------------------------------------------------------\u001b[0m",
      "\u001b[0;31mError\u001b[0m                                     Traceback (most recent call last)",
      "Cell \u001b[0;32mIn[23], line 2\u001b[0m\n\u001b[1;32m      1\u001b[0m \u001b[38;5;66;03m# DeepStream 파이프라인 생성 (nvv4l2camerasrc 사용)\u001b[39;00m\n\u001b[0;32m----> 2\u001b[0m pipeline \u001b[38;5;241m=\u001b[39m \u001b[43mGst\u001b[49m\u001b[38;5;241;43m.\u001b[39;49m\u001b[43mparse_launch\u001b[49m\u001b[43m(\u001b[49m\n\u001b[1;32m      3\u001b[0m \u001b[43m    \u001b[49m\u001b[38;5;124;43m\"\u001b[39;49m\u001b[38;5;124;43mnvv4l2camerasrc device=/dev/video0 ! video/x-raw(memory:NVMM), width=1280, height=720, framerate=30/1 ! \u001b[39;49m\u001b[38;5;124;43m\"\u001b[39;49m\n\u001b[1;32m      4\u001b[0m \u001b[43m    \u001b[49m\u001b[38;5;124;43m\"\u001b[39;49m\u001b[38;5;124;43mnvvidconv ! video/x-raw(memory:NVMM), format=NV12 ! \u001b[39;49m\u001b[38;5;124;43m\"\u001b[39;49m\n\u001b[1;32m      5\u001b[0m \u001b[43m    \u001b[49m\u001b[38;5;124;43m\"\u001b[39;49m\u001b[38;5;124;43mnvstreammux name=mux batch-size=1 width=1280 height=720 ! \u001b[39;49m\u001b[38;5;124;43m\"\u001b[39;49m\n\u001b[1;32m      6\u001b[0m \u001b[43m    \u001b[49m\u001b[38;5;124;43m\"\u001b[39;49m\u001b[38;5;124;43mnvinfer config-file-path=config_infer_primary_yolo11n.txt ! nvtracker ! \u001b[39;49m\u001b[38;5;124;43m\"\u001b[39;49m\n\u001b[1;32m      7\u001b[0m \u001b[43m    \u001b[49m\u001b[38;5;124;43m\"\u001b[39;49m\u001b[38;5;124;43mnvmultistreamtiler ! nvvideoconvert ! nvdsosd ! nveglglessink\u001b[39;49m\u001b[38;5;124;43m\"\u001b[39;49m\n\u001b[1;32m      8\u001b[0m \u001b[43m)\u001b[49m\n\u001b[1;32m     10\u001b[0m \u001b[38;5;66;03m# nvstreammux 설정\u001b[39;00m\n\u001b[1;32m     11\u001b[0m mux \u001b[38;5;241m=\u001b[39m pipeline\u001b[38;5;241m.\u001b[39mget_by_name(\u001b[38;5;124m\"\u001b[39m\u001b[38;5;124mmux\u001b[39m\u001b[38;5;124m\"\u001b[39m)\n",
      "\u001b[0;31mError\u001b[0m: gst_parse_error: could not link nvvconv8 to mux, mux can't handle caps video/x-raw(memory:NVMM), format=(string)NV12 (3)"
     ]
    }
   ],
   "source": [
    "# DeepStream 파이프라인 생성\n",
    "pipeline = Gst.parse_launch(\n",
    "    \"nvv4l2camerasrc device=/dev/video0 ! video/x-raw(memory:NVMM), width=1280, height=720, framerate=30/1 ! \"\n",
    "    \"nvvidconv ! video/x-raw(memory:NVMM), format=NV12 ! \"\n",
    "    \"mux.sink_0 \"\n",
    "    \"nvstreammux name=mux batch-size=1 width=1280 height=720 ! \"\n",
    "    \"nvinfer config-file-path=config_infer_primary_yolo11n.txt ! nvtracker ! \"\n",
    "    \"nvmultistreamtiler ! nvvideoconvert ! nvdsosd ! nveglglessink\"\n",
    ")\n",
    "\n",
    "# nvstreammux 설정\n",
    "mux = pipeline.get_by_name(\"mux\")\n",
    "if mux:\n",
    "    mux.set_property(\"width\", 1280)\n",
    "    mux.set_property(\"height\", 720)\n",
    "    mux.set_property(\"batch-size\", 1)\n"
   ]
  },
  {
   "cell_type": "code",
   "execution_count": 11,
   "metadata": {},
   "outputs": [
    {
     "name": "stdout",
     "output_type": "stream",
     "text": [
      "\n",
      "Using winsys: x11 \n",
      "DeepStream 파이프라인 실행 중...\n",
      "에러: gst-library-error-quark: Output width not set (5), 디버그 정보: /dvs/git/dirty/git-master_linux/deepstream/sdk/src/gst-plugins/gst-nvmultistream/gstnvstreammux.cpp(3161): gst_nvstreammux_change_state (): /GstPipeline:pipeline1/GstNvStreamMux:mux\n"
     ]
    }
   ],
   "source": [
    "# 파이프라인 실행\n",
    "def run_pipeline():\n",
    "    try:\n",
    "        pipeline.set_state(Gst.State.PLAYING)\n",
    "        print(\"DeepStream 파이프라인 실행 중...\")\n",
    "\n",
    "        # GStreamer 버스에서 메시지 수신\n",
    "        bus = pipeline.get_bus()\n",
    "        while True:\n",
    "            msg = bus.timed_pop_filtered(Gst.CLOCK_TIME_NONE, Gst.MessageType.ERROR | Gst.MessageType.EOS)\n",
    "            if msg:\n",
    "                t = msg.type\n",
    "                if t == Gst.MessageType.ERROR:\n",
    "                    err, debug = msg.parse_error()\n",
    "                    print(f\"에러: {err}, 디버그 정보: {debug}\")\n",
    "                    break\n",
    "                elif t == Gst.MessageType.EOS:\n",
    "                    print(\"End-Of-Stream 도달\")\n",
    "                    break\n",
    "    except Exception as e:\n",
    "        print(f\"파이프라인 실행 중 오류 발생: {e}\")\n",
    "    finally:\n",
    "        pipeline.set_state(Gst.State.NULL)\n",
    "\n",
    "# 실행\n",
    "run_pipeline()"
   ]
  },
  {
   "cell_type": "code",
   "execution_count": null,
   "metadata": {},
   "outputs": [],
   "source": []
  }
 ],
 "metadata": {
  "kernelspec": {
   "display_name": "Python 3",
   "language": "python",
   "name": "python3"
  },
  "language_info": {
   "codemirror_mode": {
    "name": "ipython",
    "version": 3
   },
   "file_extension": ".py",
   "mimetype": "text/x-python",
   "name": "python",
   "nbconvert_exporter": "python",
   "pygments_lexer": "ipython3",
   "version": "3.10.12"
  }
 },
 "nbformat": 4,
 "nbformat_minor": 2
}
